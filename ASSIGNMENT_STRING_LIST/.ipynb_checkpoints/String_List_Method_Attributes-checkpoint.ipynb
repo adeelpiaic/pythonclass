{
 "cells": [
  {
   "cell_type": "markdown",
   "metadata": {},
   "source": [
    "# ASSIGNMENT NO.2 (SINDH BOYS SCOUT 3:15 TO 5:15)\n",
    "# String Methods & Attributes"
   ]
  },
  {
   "cell_type": "code",
   "execution_count": 3,
   "metadata": {},
   "outputs": [
    {
     "name": "stdout",
     "output_type": "stream",
     "text": [
      "String Class Assignment\n",
      "<class 'str'>\n",
      "<class 'int'>\n",
      "<class 'float'>\n",
      "<class 'str'>\n"
     ]
    }
   ],
   "source": [
    "a = \"String Class Assignment\"\n",
    "b = 30 #numericals known as integar in python\n",
    "c = 4.7 #decimal figures known as float in python\n",
    "d = \"40.7\" #values which will be written in \"quotes\" will be known as string\n",
    "print(a)\n",
    "print(type(a))\n",
    "print(type(b))\n",
    "print(type(c))\n",
    "print(type(d))"
   ]
  },
  {
   "cell_type": "code",
   "execution_count": 5,
   "metadata": {},
   "outputs": [
    {
     "data": {
      "text/plain": [
       "'String class assignment'"
      ]
     },
     "execution_count": 5,
     "metadata": {},
     "output_type": "execute_result"
    }
   ],
   "source": [
    "a.capitalize()"
   ]
  },
  {
   "cell_type": "code",
   "execution_count": 39,
   "metadata": {},
   "outputs": [],
   "source": [
    "x = \"neW thiNgs To Do\"\n",
    "xcount = \"new\""
   ]
  },
  {
   "cell_type": "code",
   "execution_count": 11,
   "metadata": {},
   "outputs": [
    {
     "data": {
      "text/plain": [
       "'new things to do'"
      ]
     },
     "execution_count": 11,
     "metadata": {},
     "output_type": "execute_result"
    }
   ],
   "source": [
    "x.casefold()"
   ]
  },
  {
   "cell_type": "code",
   "execution_count": 13,
   "metadata": {},
   "outputs": [
    {
     "data": {
      "text/plain": [
       "'       neW thiNgs To Do       '"
      ]
     },
     "execution_count": 13,
     "metadata": {},
     "output_type": "execute_result"
    }
   ],
   "source": [
    "x.center(30)"
   ]
  },
  {
   "cell_type": "code",
   "execution_count": 34,
   "metadata": {},
   "outputs": [
    {
     "name": "stdout",
     "output_type": "stream",
     "text": [
      "Do\n"
     ]
    }
   ],
   "source": [
    "x = \"neW thiNgs To Do\"\n",
    "xcount = \"new\"\n",
    "ds = \"Do\"\n",
    "print(ds)"
   ]
  },
  {
   "cell_type": "code",
   "execution_count": 64,
   "metadata": {},
   "outputs": [
    {
     "data": {
      "text/plain": [
       "1"
      ]
     },
     "execution_count": 64,
     "metadata": {},
     "output_type": "execute_result"
    }
   ],
   "source": [
    "x.count(x, 0) #counting the index"
   ]
  },
  {
   "cell_type": "code",
   "execution_count": 65,
   "metadata": {},
   "outputs": [
    {
     "name": "stdout",
     "output_type": "stream",
     "text": [
      "the encoded: b'python'\n"
     ]
    }
   ],
   "source": [
    "x = \"python\"\n",
    "x_utf = x.encode()\n",
    "print(\"the encoded:\", x_utf)"
   ]
  },
  {
   "cell_type": "code",
   "execution_count": 35,
   "metadata": {},
   "outputs": [
    {
     "data": {
      "text/plain": [
       "True"
      ]
     },
     "execution_count": 35,
     "metadata": {},
     "output_type": "execute_result"
    }
   ],
   "source": [
    "x.endswith(xcount)\n",
    "x.endswith(ds)"
   ]
  },
  {
   "cell_type": "code",
   "execution_count": 42,
   "metadata": {},
   "outputs": [
    {
     "data": {
      "text/plain": [
       "'neW     thiNgs  To      Do'"
      ]
     },
     "execution_count": 42,
     "metadata": {},
     "output_type": "execute_result"
    }
   ],
   "source": [
    "x = \"neW\\tthiNgs\\tTo\\tDo\"\n",
    "x.expandtabs()"
   ]
  },
  {
   "cell_type": "code",
   "execution_count": 47,
   "metadata": {},
   "outputs": [
    {
     "data": {
      "text/plain": [
       "12"
      ]
     },
     "execution_count": 47,
     "metadata": {},
     "output_type": "execute_result"
    }
   ],
   "source": [
    "x.find('o')"
   ]
  },
  {
   "cell_type": "code",
   "execution_count": 55,
   "metadata": {},
   "outputs": [],
   "source": [
    "x = \"continuing the string\""
   ]
  },
  {
   "cell_type": "code",
   "execution_count": 56,
   "metadata": {},
   "outputs": [
    {
     "data": {
      "text/plain": [
       "'continuing the string'"
      ]
     },
     "execution_count": 56,
     "metadata": {},
     "output_type": "execute_result"
    }
   ],
   "source": [
    "x.format()"
   ]
  },
  {
   "cell_type": "code",
   "execution_count": 61,
   "metadata": {},
   "outputs": [
    {
     "name": "stdout",
     "output_type": "stream",
     "text": [
      "Hello Adam, your balance is 230.2346.\n",
      "Hello Adam, your balance is 230.2346.\n",
      "Hello Adam, your balance is 230.2346.\n",
      "Hello Adam, your balance is 230.2346.\n"
     ]
    }
   ],
   "source": [
    "print(\"Hello {}, your balance is {}.\".format(\"Adam\", 230.2346)) # default arguments\n",
    "print(\"Hello {0}, your balance is {1}.\".format(\"Adam\", 230.2346)) # positional arguments\n",
    "print(\"Hello {name}, your balance is {blc}.\".format(name=\"Adam\", blc=230.2346)) # keyword arguments\n",
    "print(\"Hello {0}, your balance is {blc}.\".format(\"Adam\", blc=230.2346)) # keyword arguments"
   ]
  },
  {
   "cell_type": "code",
   "execution_count": 74,
   "metadata": {},
   "outputs": [
    {
     "name": "stdout",
     "output_type": "stream",
     "text": [
      "value of 'is': 7\n"
     ]
    }
   ],
   "source": [
    "x = \"Python is Love\"\n",
    "check = x.index('is') #index is to check the position of the string\n",
    "print(\"value of 'is':\", check)"
   ]
  },
  {
   "cell_type": "code",
   "execution_count": 80,
   "metadata": {},
   "outputs": [
    {
     "data": {
      "text/plain": [
       "True"
      ]
     },
     "execution_count": 80,
     "metadata": {},
     "output_type": "execute_result"
    }
   ],
   "source": [
    "x = \"Pyth0n\"\n",
    "x.isalnum() \n",
    "#isalnum to check the string is alphanumeric or not but without space, if the string have space it will show False"
   ]
  },
  {
   "cell_type": "code",
   "execution_count": 78,
   "metadata": {},
   "outputs": [
    {
     "data": {
      "text/plain": [
       "False"
      ]
     },
     "execution_count": 78,
     "metadata": {},
     "output_type": "execute_result"
    }
   ],
   "source": [
    "x.isalpha() \n",
    "#isalpha to check the string is alphanumeric or not but without space, if the string have space it will show False"
   ]
  },
  {
   "cell_type": "code",
   "execution_count": 79,
   "metadata": {},
   "outputs": [
    {
     "data": {
      "text/plain": [
       "True"
      ]
     },
     "execution_count": 79,
     "metadata": {},
     "output_type": "execute_result"
    }
   ],
   "source": [
    "x.isascii()"
   ]
  },
  {
   "cell_type": "code",
   "execution_count": 85,
   "metadata": {},
   "outputs": [
    {
     "data": {
      "text/plain": [
       "True"
      ]
     },
     "execution_count": 85,
     "metadata": {},
     "output_type": "execute_result"
    }
   ],
   "source": [
    "x = \"1\"\n",
    "x.isdecimal()"
   ]
  },
  {
   "cell_type": "code",
   "execution_count": 86,
   "metadata": {},
   "outputs": [
    {
     "data": {
      "text/plain": [
       "True"
      ]
     },
     "execution_count": 86,
     "metadata": {},
     "output_type": "execute_result"
    }
   ],
   "source": [
    "x.isdigit()"
   ]
  },
  {
   "cell_type": "code",
   "execution_count": 93,
   "metadata": {},
   "outputs": [
    {
     "name": "stdout",
     "output_type": "stream",
     "text": [
      "True\n",
      "True\n",
      "False\n"
     ]
    }
   ],
   "source": [
    "x = \"Python\"\n",
    "print(x.isidentifier())\n",
    "x = \"Pyth0n\"\n",
    "print(x.isidentifier())\n",
    "x = \"Pyth0 n\"\n",
    "print(x.isidentifier())\n",
    "#The isidentifier() method doesnt take any parameters.\n",
    "# The isidentifier() method returns:\n",
    "\n",
    "#True if the string is a valid identifier\n",
    "#False if the string is not a invalid identifier"
   ]
  },
  {
   "cell_type": "code",
   "execution_count": 96,
   "metadata": {},
   "outputs": [
    {
     "name": "stdout",
     "output_type": "stream",
     "text": [
      "True\n",
      "False\n"
     ]
    }
   ],
   "source": [
    "x = \"python\"\n",
    "print(x.islower())\n",
    "x = \"pythOn\"\n",
    "print(x.islower())\n",
    "#identify lowercase"
   ]
  },
  {
   "cell_type": "code",
   "execution_count": 97,
   "metadata": {},
   "outputs": [
    {
     "data": {
      "text/plain": [
       "False"
      ]
     },
     "execution_count": 97,
     "metadata": {},
     "output_type": "execute_result"
    }
   ],
   "source": [
    "x.isnumeric()"
   ]
  },
  {
   "cell_type": "code",
   "execution_count": 100,
   "metadata": {},
   "outputs": [
    {
     "data": {
      "text/plain": [
       "True"
      ]
     },
     "execution_count": 100,
     "metadata": {},
     "output_type": "execute_result"
    }
   ],
   "source": [
    "x.isprintable()"
   ]
  },
  {
   "cell_type": "code",
   "execution_count": 106,
   "metadata": {},
   "outputs": [
    {
     "name": "stdout",
     "output_type": "stream",
     "text": [
      "True\n",
      "False\n"
     ]
    }
   ],
   "source": [
    "x = \" \\t\"\n",
    "print(x.isspace())\n",
    "\n",
    "x = \"Python  \"\n",
    "print(x.isspace())\n",
    "#The isspace() method returns:\n",
    "\n",
    "#True if all characters in the string are whitespace characters\n",
    "#False if the string is empty or contains at least one non-printable() character"
   ]
  },
  {
   "cell_type": "code",
   "execution_count": 107,
   "metadata": {},
   "outputs": [],
   "source": [
    "x = \"Practicing Python\""
   ]
  },
  {
   "cell_type": "code",
   "execution_count": 109,
   "metadata": {},
   "outputs": [
    {
     "name": "stdout",
     "output_type": "stream",
     "text": [
      "True\n",
      "False\n"
     ]
    }
   ],
   "source": [
    "x = \"Practicing Python\"\n",
    "print(x.istitle())\n",
    "\n",
    "x = \"Practicing python\"\n",
    "print(x.istitle())"
   ]
  },
  {
   "cell_type": "code",
   "execution_count": 112,
   "metadata": {},
   "outputs": [
    {
     "name": "stdout",
     "output_type": "stream",
     "text": [
      "True\n"
     ]
    }
   ],
   "source": [
    "x = \"PRACTICING PYTHON\"\n",
    "print(x.isupper())"
   ]
  },
  {
   "cell_type": "code",
   "execution_count": 114,
   "metadata": {},
   "outputs": [
    {
     "name": "stdout",
     "output_type": "stream",
     "text": [
      "Python---->Java---->Ruby\n"
     ]
    }
   ],
   "source": [
    "x = ('Python', 'Java', 'Ruby')\n",
    "y = '---->'\n",
    "print(y.join(x))"
   ]
  },
  {
   "cell_type": "code",
   "execution_count": 126,
   "metadata": {},
   "outputs": [
    {
     "name": "stdout",
     "output_type": "stream",
     "text": [
      "cat\n"
     ]
    }
   ],
   "source": [
    "x = 'cat'\n",
    "print(x)"
   ]
  },
  {
   "cell_type": "code",
   "execution_count": 128,
   "metadata": {},
   "outputs": [
    {
     "name": "stdout",
     "output_type": "stream",
     "text": [
      "cat  \n"
     ]
    }
   ],
   "source": [
    "x = 'cat'\n",
    "width = 5\n",
    "fillchar = '*'\n",
    "print(x.ljust(width))"
   ]
  },
  {
   "cell_type": "code",
   "execution_count": 139,
   "metadata": {
    "scrolled": false
   },
   "outputs": [
    {
     "name": "stdout",
     "output_type": "stream",
     "text": [
      "   Python is interesting   \n"
     ]
    }
   ],
   "source": [
    "pyth = '   Python is interesting'\n",
    "width = 27\n",
    "print(pyth.ljust(width))"
   ]
  },
  {
   "cell_type": "code",
   "execution_count": 132,
   "metadata": {},
   "outputs": [
    {
     "data": {
      "text/plain": [
       "'python is interesting'"
      ]
     },
     "execution_count": 132,
     "metadata": {},
     "output_type": "execute_result"
    }
   ],
   "source": [
    "pyth.lower()"
   ]
  },
  {
   "cell_type": "code",
   "execution_count": 140,
   "metadata": {},
   "outputs": [
    {
     "data": {
      "text/plain": [
       "'Python is interesting'"
      ]
     },
     "execution_count": 140,
     "metadata": {},
     "output_type": "execute_result"
    }
   ],
   "source": [
    "pyth.lstrip()"
   ]
  },
  {
   "cell_type": "code",
   "execution_count": 141,
   "metadata": {},
   "outputs": [
    {
     "data": {
      "text/plain": [
       "'   Python is interesting'"
      ]
     },
     "execution_count": 141,
     "metadata": {},
     "output_type": "execute_result"
    }
   ],
   "source": [
    "pyth.lstrip('is')"
   ]
  },
  {
   "cell_type": "code",
   "execution_count": 144,
   "metadata": {
    "scrolled": true
   },
   "outputs": [
    {
     "data": {
      "text/plain": [
       "'ython is interesting'"
      ]
     },
     "execution_count": 144,
     "metadata": {},
     "output_type": "execute_result"
    }
   ],
   "source": [
    "pyth.lstrip('P is')"
   ]
  },
  {
   "cell_type": "code",
   "execution_count": 146,
   "metadata": {},
   "outputs": [
    {
     "name": "stdout",
     "output_type": "stream",
     "text": [
      "{108: 111, 109: 112, 110: 113}\n"
     ]
    }
   ],
   "source": [
    "firstString = \"lmn\"\n",
    "secondString = \"opq\"\n",
    "string = \"lmn\"\n",
    "print(string.maketrans(firstString, secondString))"
   ]
  },
  {
   "cell_type": "code",
   "execution_count": 148,
   "metadata": {},
   "outputs": [
    {
     "name": "stdout",
     "output_type": "stream",
     "text": [
      "('Having ', 'fun', ' with Programing')\n"
     ]
    }
   ],
   "source": [
    "pyth = \"Having fun with Programing\"\n",
    "print(pyth.partition('fun'))\n",
    "#The partition() method takes a string parameter separator that separates the string at the first occurrence of it."
   ]
  },
  {
   "cell_type": "code",
   "execution_count": 150,
   "metadata": {},
   "outputs": [
    {
     "data": {
      "text/plain": [
       "'Heving fun with Progreming'"
      ]
     },
     "execution_count": 150,
     "metadata": {},
     "output_type": "execute_result"
    }
   ],
   "source": [
    "pyth.replace('a', 'e')"
   ]
  },
  {
   "cell_type": "code",
   "execution_count": 2,
   "metadata": {},
   "outputs": [
    {
     "data": {
      "text/plain": [
       "12"
      ]
     },
     "execution_count": 2,
     "metadata": {},
     "output_type": "execute_result"
    }
   ],
   "source": [
    "pyth = \"Having fun with Python\"\n",
    "pyth.rfind('i')\n",
    "#The rfind() method returns an integer value."
   ]
  },
  {
   "cell_type": "code",
   "execution_count": 3,
   "metadata": {},
   "outputs": [
    {
     "data": {
      "text/plain": [
       "7"
      ]
     },
     "execution_count": 3,
     "metadata": {},
     "output_type": "execute_result"
    }
   ],
   "source": [
    "pyth.rindex('fun')"
   ]
  },
  {
   "cell_type": "code",
   "execution_count": 4,
   "metadata": {},
   "outputs": [
    {
     "ename": "ValueError",
     "evalue": "substring not found",
     "output_type": "error",
     "traceback": [
      "\u001b[0;31m---------------------------------------------------------------------------\u001b[0m",
      "\u001b[0;31mValueError\u001b[0m                                Traceback (most recent call last)",
      "\u001b[0;32m<ipython-input-4-746bb5c38dc2>\u001b[0m in \u001b[0;36m<module>\u001b[0;34m\u001b[0m\n\u001b[0;32m----> 1\u001b[0;31m \u001b[0mpyth\u001b[0m\u001b[0;34m.\u001b[0m\u001b[0mrindex\u001b[0m\u001b[0;34m(\u001b[0m\u001b[0;34m'sm'\u001b[0m\u001b[0;34m)\u001b[0m\u001b[0;34m\u001b[0m\u001b[0;34m\u001b[0m\u001b[0m\n\u001b[0m",
      "\u001b[0;31mValueError\u001b[0m: substring not found"
     ]
    }
   ],
   "source": [
    "pyth.rindex('sm')"
   ]
  },
  {
   "cell_type": "code",
   "execution_count": 6,
   "metadata": {},
   "outputs": [
    {
     "data": {
      "text/plain": [
       "'     Having fun with Python'"
      ]
     },
     "execution_count": 6,
     "metadata": {},
     "output_type": "execute_result"
    }
   ],
   "source": [
    "pyth = \"Having fun with Python\"\n",
    "width = 27\n",
    "pyth.rjust((width))"
   ]
  },
  {
   "cell_type": "code",
   "execution_count": 8,
   "metadata": {},
   "outputs": [
    {
     "data": {
      "text/plain": [
       "('Having ', 'fun', ' with Python')"
      ]
     },
     "execution_count": 8,
     "metadata": {},
     "output_type": "execute_result"
    }
   ],
   "source": [
    "pyth.rpartition('fun')\n",
    "#The rpartition() method takes a string parameter separator that separates the string at the last occurrence of it."
   ]
  },
  {
   "cell_type": "code",
   "execution_count": 10,
   "metadata": {},
   "outputs": [
    {
     "data": {
      "text/plain": [
       "['Having', 'fun', 'with', 'Python']"
      ]
     },
     "execution_count": 10,
     "metadata": {},
     "output_type": "execute_result"
    }
   ],
   "source": [
    "pyth.rsplit()\n",
    "#The rsplit() breaks the string at the separator starting from the right and returns a list of strings."
   ]
  },
  {
   "cell_type": "code",
   "execution_count": 23,
   "metadata": {},
   "outputs": [
    {
     "name": "stdout",
     "output_type": "stream",
     "text": [
      "Having fun with Python\n",
      "Having fun with Pytho\n",
      "Having fun with Pytho\n"
     ]
    }
   ],
   "source": [
    "print(pyth.rstrip())\n",
    "print(pyth.rstrip('nu'))\n",
    "print(pyth.rstrip('gn'))\n",
    "#All combinations of characters in the chars argument are removed from the right of the string until first mismatch."
   ]
  },
  {
   "cell_type": "code",
   "execution_count": 24,
   "metadata": {},
   "outputs": [
    {
     "data": {
      "text/plain": [
       "['Having', 'fun', 'with', 'Python']"
      ]
     },
     "execution_count": 24,
     "metadata": {},
     "output_type": "execute_result"
    }
   ],
   "source": [
    "pyth.split()"
   ]
  },
  {
   "cell_type": "code",
   "execution_count": 27,
   "metadata": {},
   "outputs": [
    {
     "data": {
      "text/plain": [
       "['Having fun with Python']"
      ]
     },
     "execution_count": 27,
     "metadata": {},
     "output_type": "execute_result"
    }
   ],
   "source": [
    "pyth.splitlines()\n",
    "#The splitlines() takes maximum of 1 parameter. keepends (optional) - If keepends is provided and True, line breaks are also included in items of the list.\n",
    "#By default, the line breaks are not included."
   ]
  },
  {
   "cell_type": "code",
   "execution_count": 31,
   "metadata": {},
   "outputs": [
    {
     "name": "stdout",
     "output_type": "stream",
     "text": [
      "True\n",
      "False\n"
     ]
    }
   ],
   "source": [
    "print(pyth.startswith(\"Having\"))\n",
    "print(pyth.startswith('fun'))\n",
    "\n",
    "#The startswith() method returns a boolean.\n",
    "\n",
    "#It returns True if the string starts with the specified prefix.\n",
    "#It returns False if the string doesn't start with the specified prefix."
   ]
  },
  {
   "cell_type": "code",
   "execution_count": 36,
   "metadata": {},
   "outputs": [
    {
     "name": "stdout",
     "output_type": "stream",
     "text": [
      "Having fun with Python\n",
      "Having fun with Pytho\n"
     ]
    }
   ],
   "source": [
    "pyth = \"    Having fun with Python\"\n",
    "print(pyth.strip())\n",
    "pyth = \"Having fun with Python\"\n",
    "print(pyth.strip('fn'))\n",
    "\n",
    "#The strip() removes characters from both left and right based on the argument (a string specifying the set of characters to be removed)"
   ]
  },
  {
   "cell_type": "code",
   "execution_count": 37,
   "metadata": {},
   "outputs": [
    {
     "name": "stdout",
     "output_type": "stream",
     "text": [
      "python is love\n",
      "PYTHON IS LOVE\n",
      "pYTHoN Is LoVe\n"
     ]
    }
   ],
   "source": [
    "pyth = \"PYTHON IS LOVE\"\n",
    "print(pyth.swapcase())\n",
    "pyth = \"python is love\"\n",
    "print(pyth.swapcase())\n",
    "pyth = \"PythOn iS lOvE\"\n",
    "print(pyth.swapcase())\n",
    "#The swapcase() method returns the string where all uppercase characters are converted to lowercase, \n",
    "#and lowercase characters are converted to uppercase."
   ]
  },
  {
   "cell_type": "code",
   "execution_count": 38,
   "metadata": {},
   "outputs": [
    {
     "data": {
      "text/plain": [
       "'Python Is Love'"
      ]
     },
     "execution_count": 38,
     "metadata": {},
     "output_type": "execute_result"
    }
   ],
   "source": [
    "pyth.title()\n",
    "#The title() method returns a title cased version of the string. \n",
    "#Meaning, the first character of the each word is capitalized (if the first character is a letter)."
   ]
  },
  {
   "cell_type": "code",
   "execution_count": 46,
   "metadata": {},
   "outputs": [
    {
     "name": "stdout",
     "output_type": "stream",
     "text": [
      "Original string is: Python is Love\n",
      "Translated String: Loeon is Lov\n"
     ]
    }
   ],
   "source": [
    "p_1 = \"Pyth\"\n",
    "p_2 = \"Love\"\n",
    "p_3 = \"Great\"\n",
    "\n",
    "pyth = \"Python is Love\"\n",
    "print(\"Original string is:\", pyth)\n",
    "\n",
    "translation = pyth.maketrans(p_1, p_2, p_3)\n",
    "#translated string\n",
    "print(\"Translated String:\", pyth.translate(translation))\n",
    "\n",
    "#Note: first two strings should have equal value while maketrans"
   ]
  },
  {
   "cell_type": "code",
   "execution_count": 47,
   "metadata": {},
   "outputs": [
    {
     "data": {
      "text/plain": [
       "'PYTHON IS LOVE'"
      ]
     },
     "execution_count": 47,
     "metadata": {},
     "output_type": "execute_result"
    }
   ],
   "source": [
    "pyth.upper()\n",
    "#convert all the characters in uppercase"
   ]
  },
  {
   "cell_type": "code",
   "execution_count": 50,
   "metadata": {},
   "outputs": [
    {
     "data": {
      "text/plain": [
       "'0Python is Love'"
      ]
     },
     "execution_count": 50,
     "metadata": {},
     "output_type": "execute_result"
    }
   ],
   "source": [
    "pyth.zfill(15)\n",
    "#The zfill() takes a single character width.\n",
    "\n",
    "#The width specifies the length of the returned string from zfill() with '0' digits filled to the left."
   ]
  },
  {
   "cell_type": "markdown",
   "metadata": {},
   "source": [
    "# List Methods & Attributes"
   ]
  },
  {
   "cell_type": "code",
   "execution_count": 51,
   "metadata": {},
   "outputs": [
    {
     "name": "stdout",
     "output_type": "stream",
     "text": [
      "[1, 2, 3, 4]\n"
     ]
    }
   ],
   "source": [
    "x = [1, 2, 3, 4]\n",
    "print(x)"
   ]
  },
  {
   "cell_type": "code",
   "execution_count": 61,
   "metadata": {},
   "outputs": [
    {
     "name": "stdout",
     "output_type": "stream",
     "text": [
      "['a', 'b', 'c', 'd']\n"
     ]
    }
   ],
   "source": [
    "x = [\"a\", \"b\", \"c\", \"d\"]\n",
    "print(x)"
   ]
  },
  {
   "cell_type": "code",
   "execution_count": 63,
   "metadata": {},
   "outputs": [
    {
     "name": "stdout",
     "output_type": "stream",
     "text": [
      "['a', 'b', 'c', 'd', 'e', 'e']\n"
     ]
    }
   ],
   "source": [
    "x.append(\"e\")\n",
    "print(x)\n",
    "#The append() method takes a single item and adds it to the end of the list."
   ]
  },
  {
   "cell_type": "code",
   "execution_count": 64,
   "metadata": {},
   "outputs": [
    {
     "name": "stdout",
     "output_type": "stream",
     "text": [
      "[]\n"
     ]
    }
   ],
   "source": [
    "x.clear()\n",
    "print(x)\n",
    "#TThe clear() method only empties the given list. It doesn't return any value."
   ]
  },
  {
   "cell_type": "code",
   "execution_count": 65,
   "metadata": {},
   "outputs": [
    {
     "name": "stdout",
     "output_type": "stream",
     "text": [
      "[]\n"
     ]
    }
   ],
   "source": [
    "x.copy()\n",
    "print(x)\n"
   ]
  },
  {
   "cell_type": "code",
   "execution_count": 66,
   "metadata": {},
   "outputs": [
    {
     "name": "stdout",
     "output_type": "stream",
     "text": [
      "['Python', 'Ruby', 'JS']\n"
     ]
    }
   ],
   "source": [
    "list = ['Python', 'Ruby', 'JS']\n",
    "print(list)"
   ]
  },
  {
   "cell_type": "code",
   "execution_count": 68,
   "metadata": {},
   "outputs": [
    {
     "data": {
      "text/plain": [
       "1"
      ]
     },
     "execution_count": 68,
     "metadata": {},
     "output_type": "execute_result"
    }
   ],
   "source": [
    "list.count('Ruby')\n",
    "#count() method counts how many times an element has occurred in a list and returns it."
   ]
  },
  {
   "cell_type": "code",
   "execution_count": 71,
   "metadata": {},
   "outputs": [
    {
     "name": "stdout",
     "output_type": "stream",
     "text": [
      "['Python', 'JS', 'Ruby', 'OS', 'Windows', 'Linux']\n"
     ]
    }
   ],
   "source": [
    "list1 = ['Python', 'JS', 'Ruby']\n",
    "list2 = ['OS', 'Windows', 'Linux']\n",
    "list1.extend(list2)\n",
    "\n",
    "print(list1)\n",
    "#As mentioned, the extend() method takes a single argument (a list) and adds it to the end."
   ]
  },
  {
   "cell_type": "code",
   "execution_count": 76,
   "metadata": {},
   "outputs": [
    {
     "name": "stdout",
     "output_type": "stream",
     "text": [
      "Index of Python: 0\n",
      "Index of JS: 1\n"
     ]
    }
   ],
   "source": [
    "print(\"Index of Python:\", list1.index('Python'))\n",
    "print(\"Index of JS:\", list1.index('JS'))\n",
    "\n",
    "#In simple terms, index() method finds the given element in a list and returns its position.\n",
    "\n",
    "#However, if the same element is present more than once, index() method returns its smallest/first position.\n",
    "\n",
    "#Note: Index in Python starts from 0 not 1."
   ]
  },
  {
   "cell_type": "code",
   "execution_count": 77,
   "metadata": {},
   "outputs": [
    {
     "name": "stdout",
     "output_type": "stream",
     "text": [
      "['OS', 'Windows', 'Android', 'Linux']\n"
     ]
    }
   ],
   "source": [
    "list2.insert(2, 'Android')\n",
    "print(list2)\n",
    "#The insert() method only inserts the element to the list. It doesn't return anything; returns None."
   ]
  },
  {
   "cell_type": "code",
   "execution_count": 83,
   "metadata": {},
   "outputs": [
    {
     "name": "stdout",
     "output_type": "stream",
     "text": [
      "Jupyter Notebook\n"
     ]
    }
   ],
   "source": [
    "list1 = ['Anaconda', 'Python', 'Jupyter Notebook']\n",
    "pop_value = list1.pop(2)\n",
    "print(pop_value)\n",
    "#The pop() method takes a single argument (index) and removes the item present at that index."
   ]
  },
  {
   "cell_type": "code",
   "execution_count": 88,
   "metadata": {},
   "outputs": [
    {
     "name": "stdout",
     "output_type": "stream",
     "text": [
      "['Python', 'Spyder']\n"
     ]
    }
   ],
   "source": [
    "list1 = ['Anaconda', 'Python', 'Spyder']\n",
    "list1.remove('Anaconda')\n",
    "print(list1)"
   ]
  },
  {
   "cell_type": "code",
   "execution_count": 90,
   "metadata": {},
   "outputs": [
    {
     "name": "stdout",
     "output_type": "stream",
     "text": [
      "['Anaconda', 'Python', 'Spyder']\n"
     ]
    }
   ],
   "source": [
    "list1 = ['Anaconda', 'Python', 'Spyder']\n",
    "print(list1)"
   ]
  },
  {
   "cell_type": "code",
   "execution_count": 96,
   "metadata": {},
   "outputs": [
    {
     "name": "stdout",
     "output_type": "stream",
     "text": [
      "Original List: ['Cat', 'Dog', 'Goat']\n",
      "Updated List: ['Goat', 'Dog', 'Cat']\n"
     ]
    }
   ],
   "source": [
    "animals = ['Cat', 'Dog', 'Goat']\n",
    "print('Original List:', animals)\n",
    "\n",
    "animals.reverse()\n",
    "print('Updated List:', animals)\n",
    "#The reverse() function doesn't return any value. It only reverses the elements and updates the list."
   ]
  },
  {
   "cell_type": "code",
   "execution_count": 97,
   "metadata": {},
   "outputs": [
    {
     "name": "stdout",
     "output_type": "stream",
     "text": [
      "[1, 2, 3, 5]\n"
     ]
    }
   ],
   "source": [
    "num = [5, 3, 2, 1]\n",
    "num.sort()\n",
    "print(num)"
   ]
  },
  {
   "cell_type": "code",
   "execution_count": null,
   "metadata": {},
   "outputs": [],
   "source": []
  }
 ],
 "metadata": {
  "kernelspec": {
   "display_name": "Python 3",
   "language": "python",
   "name": "python3"
  },
  "language_info": {
   "codemirror_mode": {
    "name": "ipython",
    "version": 3
   },
   "file_extension": ".py",
   "mimetype": "text/x-python",
   "name": "python",
   "nbconvert_exporter": "python",
   "pygments_lexer": "ipython3",
   "version": "3.7.3"
  }
 },
 "nbformat": 4,
 "nbformat_minor": 2
}
