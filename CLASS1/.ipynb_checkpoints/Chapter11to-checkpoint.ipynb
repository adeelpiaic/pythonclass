{
 "cells": [
  {
   "cell_type": "code",
   "execution_count": 5,
   "metadata": {},
   "outputs": [
    {
     "name": "stdout",
     "output_type": "stream",
     "text": [
      "That's great\n"
     ]
    }
   ],
   "source": [
    "classes = \"Practical\"\n",
    "if classes == \"Practical\":\n",
    "    print(\"That's great\")\n",
    "if classes != \"Practical\":\n",
    "    print(\"Boring\")"
   ]
  },
  {
   "cell_type": "code",
   "execution_count": 8,
   "metadata": {},
   "outputs": [
    {
     "name": "stdout",
     "output_type": "stream",
     "text": [
      "That's great\n"
     ]
    }
   ],
   "source": [
    "classes = \"Practical\"\n",
    "if classes == \"Practical\":\n",
    "    print(\"That's great\")\n",
    "else: \n",
    "    print(\"Boring\")"
   ]
  },
  {
   "cell_type": "code",
   "execution_count": 9,
   "metadata": {},
   "outputs": [
    {
     "name": "stdout",
     "output_type": "stream",
     "text": [
      "Boring\n"
     ]
    }
   ],
   "source": [
    "classes = \"Pral\"\n",
    "if classes == \"Practical\":\n",
    "    print(\"That's great\")\n",
    "else: \n",
    "    print(\"Boring\")"
   ]
  },
  {
   "cell_type": "code",
   "execution_count": 7,
   "metadata": {},
   "outputs": [
    {
     "name": "stdout",
     "output_type": "stream",
     "text": [
      "chapter\n",
      "Recruit him\n"
     ]
    }
   ],
   "source": [
    "Chapter = \"Chapter 12 Testing Set of Condition\"\n",
    "print(\"chapter\")\n",
    "weight = 300\n",
    "age = 17\n",
    "time = 6\n",
    "\n",
    "if weight >= 300 and age >= 17 and time >= 6:\n",
    "    status =\"Recruit him\"\n",
    "    print(status)"
   ]
  },
  {
   "cell_type": "code",
   "execution_count": 19,
   "metadata": {},
   "outputs": [
    {
     "name": "stdout",
     "output_type": "stream",
     "text": [
      "Welcome to Leeds College!\n"
     ]
    }
   ],
   "source": [
    "GPA = 2.5\n",
    "if SAT > avg or GPA > 2.5 or parent == \"alum\":\n",
    "    message = \"Welcome to Leeds College!\"\n",
    "print(message)"
   ]
  },
  {
   "cell_type": "code",
   "execution_count": 1,
   "metadata": {},
   "outputs": [],
   "source": [
    "chapter = \"Chapter 13 if statement nested\""
   ]
  },
  {
   "cell_type": "code",
   "execution_count": 2,
   "metadata": {},
   "outputs": [
    {
     "name": "stdout",
     "output_type": "stream",
     "text": [
      "Chapter 13 if statement nested\n"
     ]
    }
   ],
   "source": [
    "print(chapter)"
   ]
  },
  {
   "cell_type": "code",
   "execution_count": 9,
   "metadata": {},
   "outputs": [],
   "source": [
    "x = 2\n",
    "y = 2\n",
    "c = 3\n",
    "d = 3\n",
    "g = 5\n",
    "h = 5\n",
    "e = 6\n",
    "f = 6\n",
    "if (x == y or a == b) and c == d:\n",
    "    g = h\n",
    "else: e = f"
   ]
  },
  {
   "cell_type": "code",
   "execution_count": null,
   "metadata": {},
   "outputs": [],
   "source": []
  }
 ],
 "metadata": {
  "kernelspec": {
   "display_name": "Python 3",
   "language": "python",
   "name": "python3"
  },
  "language_info": {
   "codemirror_mode": {
    "name": "ipython",
    "version": 3
   },
   "file_extension": ".py",
   "mimetype": "text/x-python",
   "name": "python",
   "nbconvert_exporter": "python",
   "pygments_lexer": "ipython3",
   "version": "3.7.3"
  }
 },
 "nbformat": 4,
 "nbformat_minor": 2
}
