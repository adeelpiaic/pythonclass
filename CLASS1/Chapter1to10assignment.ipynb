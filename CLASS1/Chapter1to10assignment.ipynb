{
 "cells": [
  {
   "cell_type": "code",
   "execution_count": 1,
   "metadata": {},
   "outputs": [
    {
     "name": "stdout",
     "output_type": "stream",
     "text": [
      "Hello World!\n"
     ]
    }
   ],
   "source": [
    "print(\"Hello World!\")"
   ]
  },
  {
   "cell_type": "code",
   "execution_count": 2,
   "metadata": {},
   "outputs": [
    {
     "name": "stdout",
     "output_type": "stream",
     "text": [
      "Chapter 2 Variable\n",
      "Home Assignment\n"
     ]
    }
   ],
   "source": [
    "chapter = \"Chapter 2 Variable\"\n",
    "assignment = \"Home Assignment\"\n",
    "print(chapter)\n",
    "print(assignment)"
   ]
  },
  {
   "cell_type": "code",
   "execution_count": 6,
   "metadata": {},
   "outputs": [
    {
     "data": {
      "text/plain": [
       "175"
      ]
     },
     "execution_count": 6,
     "metadata": {},
     "output_type": "execute_result"
    }
   ],
   "source": [
    "weight = 150\n",
    "weight + 25"
   ]
  },
  {
   "cell_type": "code",
   "execution_count": 13,
   "metadata": {},
   "outputs": [
    {
     "data": {
      "text/plain": [
       "350"
      ]
     },
     "execution_count": 13,
     "metadata": {},
     "output_type": "execute_result"
    }
   ],
   "source": [
    "num_1st = 50\n",
    "num_sum = num_1st * 7\n",
    "num_sum"
   ]
  },
  {
   "cell_type": "code",
   "execution_count": 2,
   "metadata": {},
   "outputs": [
    {
     "name": "stdout",
     "output_type": "stream",
     "text": [
      "chapter 4 Math expression\n",
      "8\n"
     ]
    }
   ],
   "source": [
    "chapter = \"chapter 4 Math expression\"\n",
    "print(chapter)\n",
    "print(4+4)"
   ]
  },
  {
   "cell_type": "code",
   "execution_count": 3,
   "metadata": {},
   "outputs": [
    {
     "name": "stdout",
     "output_type": "stream",
     "text": [
      "200.75\n"
     ]
    }
   ],
   "source": [
    "number = 0.75\n",
    "total = 200 + number\n",
    "print(total)"
   ]
  },
  {
   "cell_type": "code",
   "execution_count": 8,
   "metadata": {},
   "outputs": [
    {
     "name": "stdout",
     "output_type": "stream",
     "text": [
      "Chapter 5 Variable Names Legal & Illegal\n",
      "Anaconda (Distributor)\n",
      "jupyter notebook (IDE)\n",
      "16.666666666666668\n"
     ]
    }
   ],
   "source": [
    "chapter = \"Chapter 5 Variable Names Legal & Illegal\"\n",
    "source_distributor = \"Anaconda (Distributor)\"\n",
    "user_ide = \"jupyter notebook (IDE)\"\n",
    "total = 5 * 5 * 6 / 9\n",
    "print(chapter)\n",
    "print(source_distributor)\n",
    "print(user_ide)\n",
    "print(total)"
   ]
  },
  {
   "cell_type": "code",
   "execution_count": 15,
   "metadata": {},
   "outputs": [
    {
     "name": "stdout",
     "output_type": "stream",
     "text": [
      "Chapter 6 Math expression: Unfamiliar operators\n",
      "1\n",
      "11\n"
     ]
    }
   ],
   "source": [
    "chapter = \"Chapter 6 Math expression: Unfamiliar operators\"\n",
    "print(chapter)\n",
    "left_over = 100 % 11\n",
    "print(left_over)\n",
    "session = 4\n",
    "session += 7\n",
    "print(session)"
   ]
  },
  {
   "cell_type": "code",
   "execution_count": 18,
   "metadata": {},
   "outputs": [
    {
     "name": "stdout",
     "output_type": "stream",
     "text": [
      "Chapter 7 Math expressions: Eliminating ambiguity\n",
      "15.0\n"
     ]
    }
   ],
   "source": [
    "chapter = \"Chapter 7 Math expressions: Eliminating ambiguity\"\n",
    "print(chapter)\n",
    "total_cost = 7 / 7 * 8 + 8 - 1\n",
    "print(total_cost)"
   ]
  },
  {
   "cell_type": "code",
   "execution_count": 19,
   "metadata": {},
   "outputs": [
    {
     "name": "stdout",
     "output_type": "stream",
     "text": [
      "15.0\n"
     ]
    }
   ],
   "source": [
    "total_cost = 8 + 8 - 1 * 7 / 7\n",
    "print(total_cost)"
   ]
  },
  {
   "cell_type": "code",
   "execution_count": 20,
   "metadata": {},
   "outputs": [
    {
     "name": "stdout",
     "output_type": "stream",
     "text": [
      "44.0\n"
     ]
    }
   ],
   "source": [
    "total_cost = 6 + 6 * 7 - 8 / 2  \n",
    "print(total_cost)"
   ]
  },
  {
   "cell_type": "code",
   "execution_count": 22,
   "metadata": {},
   "outputs": [
    {
     "name": "stdout",
     "output_type": "stream",
     "text": [
      "10.0\n"
     ]
    }
   ],
   "source": [
    "total_cost = 8 + 8 / 4\n",
    "print(total_cost)"
   ]
  },
  {
   "cell_type": "code",
   "execution_count": 26,
   "metadata": {},
   "outputs": [
    {
     "name": "stdout",
     "output_type": "stream",
     "text": [
      "0.14285714285714285\n"
     ]
    }
   ],
   "source": [
    "x=5/(7*(6-1))\n",
    "print(x)"
   ]
  },
  {
   "cell_type": "code",
   "execution_count": 28,
   "metadata": {},
   "outputs": [
    {
     "name": "stdout",
     "output_type": "stream",
     "text": [
      "Chapter 8 Concatenating text strings\n",
      "coding changes life\n",
      "Humans are hooked, Machines are learning\n"
     ]
    }
   ],
   "source": [
    "Chapter = \"Chapter 8 Concatenating text strings\"\n",
    "print(Chapter)\n",
    "first = \"coding \"\n",
    "second = \"changes \"\n",
    "third = \"life\"\n",
    "fourth = first + second + third\n",
    "print(fourth)\n",
    "bitter = \"Humans are hooked, \"\n",
    "truth = \"Machines are learning\"\n",
    "harsh = bitter + truth\n",
    "print(harsh)"
   ]
  },
  {
   "cell_type": "code",
   "execution_count": 40,
   "metadata": {},
   "outputs": [
    {
     "name": "stdout",
     "output_type": "stream",
     "text": [
      "Chapter 9 if statements\n",
      "enjoying working\n"
     ]
    }
   ],
   "source": [
    "chapter = \"Chapter 9 if statements\"\n",
    "print(chapter)\n",
    "IDE = \"jupyter notebook\"\n",
    "if IDE == \"jupyter notebook\":\n",
    "    course = \"AI\"\n",
    "    center = \"Boys scout\"\n",
    "    print(\"enjoying working\")"
   ]
  },
  {
   "cell_type": "code",
   "execution_count": 45,
   "metadata": {},
   "outputs": [
    {
     "name": "stdout",
     "output_type": "stream",
     "text": [
      "Chapter 10 Comparison operators\n",
      "enjoy attending the class\n",
      "may be boring\n"
     ]
    }
   ],
   "source": [
    "chapter = \"Chapter 10 Comparison operators\"\n",
    "print (chapter)\n",
    "session = \"practical\"\n",
    "if session == \"practical\":\n",
    "    print(\"enjoy attending the class\")\n",
    "session = \"only theory\"\n",
    "if session != \"practical\":\n",
    "    print(\"may be boring\")"
   ]
  },
  {
   "cell_type": "code",
   "execution_count": 62,
   "metadata": {},
   "outputs": [
    {
     "name": "stdout",
     "output_type": "stream",
     "text": [
      "Grade A\n",
      "Grade B\n"
     ]
    }
   ],
   "source": [
    "marks = 90\n",
    "if marks >= 90:\n",
    "    print(\"Grade A\")\n",
    "marks = 89\n",
    "if marks >= 85:\n",
    "    print(\"Grade B\")"
   ]
  },
  {
   "cell_type": "code",
   "execution_count": null,
   "metadata": {},
   "outputs": [],
   "source": []
  }
 ],
 "metadata": {
  "kernelspec": {
   "display_name": "Python 3",
   "language": "python",
   "name": "python3"
  },
  "language_info": {
   "codemirror_mode": {
    "name": "ipython",
    "version": 3
   },
   "file_extension": ".py",
   "mimetype": "text/x-python",
   "name": "python",
   "nbconvert_exporter": "python",
   "pygments_lexer": "ipython3",
   "version": "3.7.3"
  }
 },
 "nbformat": 4,
 "nbformat_minor": 2
}
