{
 "cells": [
  {
   "cell_type": "code",
   "execution_count": 2,
   "metadata": {},
   "outputs": [
    {
     "data": {
      "text/plain": [
       "2222.0"
      ]
     },
     "execution_count": 2,
     "metadata": {},
     "output_type": "execute_result"
    }
   ],
   "source": [
    "5 + 2 * 9 + 100 / 10 ** 2 + (5 * 6) + (8 * 9) + 2 * 6 + 3 * 7 * 9 + (8 + 9) * 56 * 2 - 9"
   ]
  },
  {
   "cell_type": "code",
   "execution_count": 3,
   "metadata": {},
   "outputs": [
    {
     "data": {
      "text/plain": [
       "2222"
      ]
     },
     "execution_count": 3,
     "metadata": {},
     "output_type": "execute_result"
    }
   ],
   "source": [
    "#pemdas\n",
    "5 + 2 * 9 + 100 / 10 ** 2 + (5 * 6) + (8 * 9) + 2 * 6 + 3 * 7 * 9 + (8 + 9) * 56 * 2 - 9\n",
    "5 + 2 * 9 + 100 / 10 ** 2 + 30 + 72 + 2 * 6 + 3 * 7 * 9 + 17 * 56 * 2 - 9\n",
    "5 + 2 * 9 + 100 / 100 + 30 + 72 + 2 * 6 + 3 * 7 * 9 + 17 * 56 * 2 - 9\n",
    "5 + 18 + 100/100 + 30 + 72 + 12 + 189 + 1904 - 9\n",
    "5 + 18 + 1 + 30 + 72 + 12 + 189 + 1904 - 9\n",
    "2231 - 9\n",
    "2222"
   ]
  },
  {
   "cell_type": "code",
   "execution_count": null,
   "metadata": {},
   "outputs": [],
   "source": []
  }
 ],
 "metadata": {
  "kernelspec": {
   "display_name": "Python 3",
   "language": "python",
   "name": "python3"
  },
  "language_info": {
   "codemirror_mode": {
    "name": "ipython",
    "version": 3
   },
   "file_extension": ".py",
   "mimetype": "text/x-python",
   "name": "python",
   "nbconvert_exporter": "python",
   "pygments_lexer": "ipython3",
   "version": "3.7.3"
  }
 },
 "nbformat": 4,
 "nbformat_minor": 2
}
